{
 "cells": [
  {
   "cell_type": "markdown",
   "id": "459874aa",
   "metadata": {},
   "source": [
    "# Important File and Necessary Libraries\n",
    "The File we are impoarting is a class that we created to reformat our vins.\n",
    "In a vin, there are 3 main sections\n",
    "- wmi = first 3\n",
    "- vds = second 6\n",
    "- ser = remaining items\n",
    "\n",
    "\"vins.csv\" is our original Data"
   ]
  },
  {
   "cell_type": "code",
   "execution_count": 15,
   "id": "ab67bb27",
   "metadata": {},
   "outputs": [],
   "source": [
    "from VIN import VIN\n",
    "with open(\"vins.csv\",\"r\") as f:\n",
    "    file=f.readlines()\n",
    "    \n",
    "for i in range(len(file)):\n",
    "    file[i]=VIN(file[i].rstrip())"
   ]
  },
  {
   "cell_type": "code",
   "execution_count": 20,
   "id": "97983d57",
   "metadata": {},
   "outputs": [],
   "source": [
    "def vmapenc(vin):\n",
    "    vmap=\"0123456789ABCDEFGHJKLMNPRSTUVWXYZ\"\n",
    "    vrad=0 #will be our output\n",
    "    exp=0 #exponent number\n",
    "    base=34 #exponent number\n",
    "    for v in range(len(vin)):\n",
    "        coe = vmap.index(vin[v])\n",
    "        exp = len(vin)-1-v\n",
    "        vrad+=coe*base**exp\n",
    "    return(vrad)"
   ]
  },
  {
   "cell_type": "code",
   "execution_count": 21,
   "id": "283433da",
   "metadata": {},
   "outputs": [],
   "source": [
    "#loop through your file and convert each item in the file\n",
    "for v in file:\n",
    "    vmapenc(v.wmi+v.vds+v.ser)"
   ]
  },
  {
   "cell_type": "code",
   "execution_count": 22,
   "id": "a98c0697",
   "metadata": {},
   "outputs": [],
   "source": [
    "for v in file:\n",
    "    vmapenc(v.wmi)"
   ]
  },
  {
   "cell_type": "markdown",
   "id": "84e91997",
   "metadata": {},
   "source": []
  },
  {
   "cell_type": "code",
   "execution_count": null,
   "id": "f208a611",
   "metadata": {},
   "outputs": [],
   "source": []
  },
  {
   "cell_type": "code",
   "execution_count": null,
   "id": "59134508",
   "metadata": {},
   "outputs": [],
   "source": []
  }
 ],
 "metadata": {
  "kernelspec": {
   "display_name": "Python 3 (ipykernel)",
   "language": "python",
   "name": "python3"
  },
  "language_info": {
   "codemirror_mode": {
    "name": "ipython",
    "version": 3
   },
   "file_extension": ".py",
   "mimetype": "text/x-python",
   "name": "python",
   "nbconvert_exporter": "python",
   "pygments_lexer": "ipython3",
   "version": "3.9.7"
  }
 },
 "nbformat": 4,
 "nbformat_minor": 5
}
