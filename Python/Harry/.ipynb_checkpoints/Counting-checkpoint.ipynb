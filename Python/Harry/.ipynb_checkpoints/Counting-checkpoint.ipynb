{
 "cells": [
  {
   "cell_type": "markdown",
   "id": "68861d8d",
   "metadata": {},
   "source": [
    "characters : 5385286\n",
    "\n",
    "pages : 4703\n",
    "\n",
    "words that are len()\n",
    "3: 11505\n",
    "5: 21525\n",
    "7: 44317\n",
    "9: 218790\n",
    "11+: 551335\n",
    "total: 847472"
   ]
  },
  {
   "cell_type": "markdown",
   "id": "390e20ac",
   "metadata": {},
   "source": [
    "Harry Potter : 23505\n",
    "Ron Weasley : 9635\n",
    "Albus Dumbledore : 3448\n",
    "Hagrid : 2014\n",
    "Hermione Granger : 5437\n",
    "Draco Malfoy : 1490\n",
    "\"the name that should not be named\" : 0\n",
    "Voldemort: 1237"
   ]
  },
  {
   "cell_type": "code",
   "execution_count": null,
   "id": "b5435a8c",
   "metadata": {},
   "outputs": [],
   "source": []
  }
 ],
 "metadata": {
  "kernelspec": {
   "display_name": "Python 3 (ipykernel)",
   "language": "python",
   "name": "python3"
  },
  "language_info": {
   "codemirror_mode": {
    "name": "ipython",
    "version": 3
   },
   "file_extension": ".py",
   "mimetype": "text/x-python",
   "name": "python",
   "nbconvert_exporter": "python",
   "pygments_lexer": "ipython3",
   "version": "3.9.7"
  }
 },
 "nbformat": 4,
 "nbformat_minor": 5
}
