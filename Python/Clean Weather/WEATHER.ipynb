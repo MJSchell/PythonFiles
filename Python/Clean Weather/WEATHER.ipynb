{
 "cells": [
  {
   "cell_type": "markdown",
   "id": "c704b805",
   "metadata": {},
   "source": [
    "In Python Split each line into a list and split the indexes of lists into seperate lists; Turned it into a dictionary then turned it into a csv using the pandas to datafame then to csv functions; Trimmed the data in Excel"
   ]
  },
  {
   "cell_type": "code",
   "execution_count": 2,
   "id": "b3eb5755",
   "metadata": {},
   "outputs": [],
   "source": [
    "import pandas\n",
    "import matplotlib.pyplot as plt\n",
    "df=pandas.read_csv(\"WeatherDataEdit.csv\",header=0)\n",
    "df[\"PRCP\"]=df[\"PRCP\"].replace(-9999,pandas.NA)\n",
    "df[\"TAVG\"]=df[\"TAVG\"].replace(-9999,pandas.NA)\n",
    "df[\"TMAX\"]=df[\"TMAX\"].replace(-9999,pandas.NA)\n",
    "df[\"TMIN\"]=df[\"TMIN\"].replace(-9999,pandas.NA)"
   ]
  },
  {
   "cell_type": "markdown",
   "id": "37f5201e",
   "metadata": {},
   "source": [
    "Precipitation Analysis"
   ]
  },
  {
   "cell_type": "code",
   "execution_count": 3,
   "id": "2bd9ae2e",
   "metadata": {},
   "outputs": [
    {
     "data": {
      "image/png": "[encoded data removed]",
      "text/plain": [
       "<Figure size 432x288 with 1 Axes>"
      ]
     },
     "metadata": {
      "needs_background": "light"
     },
     "output_type": "display_data"
    }
   ],
   "source": [
    "uniqueYears=df['Year'].unique()\n",
    "uniqueMonths=df['Month'].unique()\n",
    "for year in uniqueYears:\n",
    "    precipitation=df[df[\"Year\"]== year].groupby('Year')[\"PRCP\"]\n",
    "    plt.bar(x=year,height=precipitation.sum())\n",
    "plt.title(label=\"Year Precipitation\")\n",
    "plt.show()"
   ]
  },
  {
   "cell_type": "code",
   "execution_count": 39,
   "id": "3b9c1197",
   "metadata": {},
   "outputs": [
    {
     "name": "stdout",
     "output_type": "stream",
     "text": [
      "Year\n",
      "1948    2.02\n",
      "1949    8.84\n",
      "1950    13.5\n",
      "1951    6.75\n",
      "1952    3.31\n",
      "        ... \n",
      "2017    2.27\n",
      "2018    2.97\n",
      "2019    4.05\n",
      "2020    5.58\n",
      "2021    3.41\n",
      "Name: PRCP, Length: 74, dtype: object\n"
     ]
    },
    {
     "data": {
      "image/png": "[encoded data removed]",
      "text/plain": [
       "<Figure size 432x288 with 1 Axes>"
      ]
     },
     "metadata": {
      "needs_background": "light"
     },
     "output_type": "display_data"
    }
   ],
   "source": [
    "\n",
    "JanPRCP=df[df[\"Month\"]==1].groupby('Year')[\"PRCP\"]\n",
    "test=pandas.DataFrame(JanPRCP.sum())\n",
    "print(test[\"PRCP\"])\n",
    "for year in uniqueYears:\n",
    "    plt.bar(x=year,height=JanPRCP.sum())\n",
    "plt.title(label=\"January Precipitation\")\n",
    "plt.show()"
   ]
  },
  {
   "cell_type": "markdown",
   "id": "17935d30",
   "metadata": {},
   "source": [
    "Temperature Analyisis"
   ]
  },
  {
   "cell_type": "code",
   "execution_count": null,
   "id": "2ed974a2",
   "metadata": {},
   "outputs": [],
   "source": []
  }
 ],
 "metadata": {
  "kernelspec": {
   "display_name": "Python 3 (ipykernel)",
   "language": "python",
   "name": "python3"
  },
  "language_info": {
   "codemirror_mode": {
    "name": "ipython",
    "version": 3
   },
   "file_extension": ".py",
   "mimetype": "text/x-python",
   "name": "python",
   "nbconvert_exporter": "python",
   "pygments_lexer": "ipython3",
   "version": "3.9.7"
  }
 },
 "nbformat": 4,
 "nbformat_minor": 5
}
