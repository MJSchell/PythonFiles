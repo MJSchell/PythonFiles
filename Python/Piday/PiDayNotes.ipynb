{
 "cells": [
  {
   "cell_type": "code",
   "execution_count": 1,
   "id": "e25ce59c",
   "metadata": {},
   "outputs": [
    {
     "name": "stdout",
     "output_type": "stream",
     "text": [
      "Hello World\n"
     ]
    }
   ],
   "source": [
    "print(\"Hello World\")"
   ]
  },
  {
   "cell_type": "code",
   "execution_count": 43,
   "id": "9008c6f0",
   "metadata": {
    "scrolled": true
   },
   "outputs": [
    {
     "name": "stdout",
     "output_type": "stream",
     "text": [
      "Ctrl+Enter will run the cell\n"
     ]
    }
   ],
   "source": [
    "print(\"Ctrl+Enter will run the cell\")"
   ]
  },
  {
   "cell_type": "code",
   "execution_count": 47,
   "id": "f2186377",
   "metadata": {},
   "outputs": [
    {
     "name": "stdout",
     "output_type": "stream",
     "text": [
      "Shift+Enter will run and enter a new cell\n",
      "Alt+Enter will run and enter a new cell\n"
     ]
    }
   ],
   "source": [
    "print(\"Shift+Enter will run and enter a new cell\")\n",
    "print(\"Alt+Enter will run and enter a new cell\")"
   ]
  },
  {
   "cell_type": "markdown",
   "id": "457944bb",
   "metadata": {},
   "source": [
    "if we type in here it is like typing into a text file..... king of\n",
    "# This is a header tag"
   ]
  },
  {
   "cell_type": "markdown",
   "id": "8cbe35d9",
   "metadata": {},
   "source": [
    "# Nilakantha Series\n"
   ]
  },
  {
   "cell_type": "markdown",
   "id": "1e1ff870",
   "metadata": {},
   "source": [
    "Equation: 4/(n*(n+1)(n+2))"
   ]
  },
  {
   "cell_type": "code",
   "execution_count": 49,
   "id": "df323a0c",
   "metadata": {},
   "outputs": [
    {
     "name": "stdout",
     "output_type": "stream",
     "text": [
      "3.141592653589793\n"
     ]
    }
   ],
   "source": [
    "import math\n",
    "print(math.pi)"
   ]
  },
  {
   "cell_type": "code",
   "execution_count": 3,
   "id": "c5f44dc5",
   "metadata": {},
   "outputs": [],
   "source": [
    "def nilakantah(reps):\n",
    "    #reps is the iterations\n",
    "    i=2\n",
    "    op=1 #opposite\n",
    "    result=0\n",
    "    for i in range(2,2*reps+1,2):\n",
    "        result+=4/(i*(i+1)*(i+2)*op)\n",
    "        op*=-1\n",
    "    return 3+result"
   ]
  },
  {
   "cell_type": "code",
   "execution_count": 8,
   "id": "bad4971b",
   "metadata": {
    "scrolled": true
   },
   "outputs": [
    {
     "name": "stdout",
     "output_type": "stream",
     "text": [
      "3.141592653589792\n",
      "1.7763568394002505e-15\n"
     ]
    }
   ],
   "source": [
    "import math\n",
    "print(nilakantah(99999))\n",
    "print(math.pi-nilakantah(1000000))"
   ]
  },
  {
   "cell_type": "markdown",
   "id": "92e86c7c",
   "metadata": {},
   "source": [
    "# Monte Carlo"
   ]
  },
  {
   "cell_type": "code",
   "execution_count": null,
   "id": "d1134c46",
   "metadata": {},
   "outputs": [],
   "source": []
  }
 ],
 "metadata": {
  "kernelspec": {
   "display_name": "Python 3 (ipykernel)",
   "language": "python",
   "name": "python3"
  },
  "language_info": {
   "codemirror_mode": {
    "name": "ipython",
    "version": 3
   },
   "file_extension": ".py",
   "mimetype": "text/x-python",
   "name": "python",
   "nbconvert_exporter": "python",
   "pygments_lexer": "ipython3",
   "version": "3.9.7"
  }
 },
 "nbformat": 4,
 "nbformat_minor": 5
}
