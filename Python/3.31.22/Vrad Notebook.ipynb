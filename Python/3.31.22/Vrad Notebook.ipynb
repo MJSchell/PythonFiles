{
 "cells": [
  {
   "cell_type": "code",
   "execution_count": 11,
   "id": "ad6eea24",
   "metadata": {},
   "outputs": [
    {
     "ename": "ModuleNotFoundError",
     "evalue": "No module named 'VIN'",
     "output_type": "error",
     "traceback": [
      "\u001b[1;31m---------------------------------------------------------------------------\u001b[0m",
      "\u001b[1;31mModuleNotFoundError\u001b[0m                       Traceback (most recent call last)",
      "Input \u001b[1;32mIn [11]\u001b[0m, in \u001b[0;36m<cell line: 1>\u001b[1;34m()\u001b[0m\n\u001b[1;32m----> 1\u001b[0m \u001b[38;5;28;01mfrom\u001b[39;00m \u001b[38;5;21;01mVIN\u001b[39;00m \u001b[38;5;28;01mimport\u001b[39;00m Vin\n\u001b[0;32m      2\u001b[0m file\u001b[38;5;241m=\u001b[39m\u001b[38;5;28mopen\u001b[39m(\u001b[38;5;124m\"\u001b[39m\u001b[38;5;124mvins.csv\u001b[39m\u001b[38;5;124m\"\u001b[39m,\u001b[38;5;124m\"\u001b[39m\u001b[38;5;124mr\u001b[39m\u001b[38;5;124m\"\u001b[39m)\n\u001b[0;32m      3\u001b[0m vinList\u001b[38;5;241m=\u001b[39mfile\u001b[38;5;241m.\u001b[39mreadlines()\n",
      "\u001b[1;31mModuleNotFoundError\u001b[0m: No module named 'VIN'"
     ]
    }
   ],
   "source": [
    "from VIN import Vin\n",
    "file=open(\"vins.csv\",\"r\")\n",
    "vinList=file.readlines()\n",
    "for i in range(len(vinList)):\n",
    "    vinList[i]=VIN(vinList[i].rstrip())\n",
    "print(vinList)"
   ]
  },
  {
   "cell_type": "code",
   "execution_count": null,
   "id": "ba857d2d",
   "metadata": {},
   "outputs": [],
   "source": []
  }
 ],
 "metadata": {
  "kernelspec": {
   "display_name": "Python 3 (ipykernel)",
   "language": "python",
   "name": "python3"
  },
  "language_info": {
   "codemirror_mode": {
    "name": "ipython",
    "version": 3
   },
   "file_extension": ".py",
   "mimetype": "text/x-python",
   "name": "python",
   "nbconvert_exporter": "python",
   "pygments_lexer": "ipython3",
   "version": "3.9.7"
  }
 },
 "nbformat": 4,
 "nbformat_minor": 5
}
