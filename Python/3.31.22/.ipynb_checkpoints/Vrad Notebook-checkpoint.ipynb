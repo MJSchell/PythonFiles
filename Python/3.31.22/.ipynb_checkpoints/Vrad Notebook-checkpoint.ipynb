{
 "cells": [
  {
   "cell_type": "code",
   "execution_count": 10,
   "id": "27d1037d",
   "metadata": {},
   "outputs": [],
   "source": [
    "from VIN import Vin\n",
    "file=open(\"vins.csv\",\"r\")\n",
    "vinList=file.readlines()\n",
    "for i in range(len(vinList)):\n",
    "    vinList[i]=VIN(vinList[i].rstrip())\n",
    "print(vinList)"
   ]
  },
  {
   "cell_type": "code",
   "execution_count": null,
   "id": "364e192f",
   "metadata": {},
   "outputs": [],
   "source": [
    "from VIN import Vin"
   ]
  }
 ],
 "metadata": {
  "kernelspec": {
   "display_name": "Python 3 (ipykernel)",
   "language": "python",
   "name": "python3"
  },
  "language_info": {
   "codemirror_mode": {
    "name": "ipython",
    "version": 3
   },
   "file_extension": ".py",
   "mimetype": "text/x-python",
   "name": "python",
   "nbconvert_exporter": "python",
   "pygments_lexer": "ipython3",
   "version": "3.9.7"
  }
 },
 "nbformat": 4,
 "nbformat_minor": 5
}
