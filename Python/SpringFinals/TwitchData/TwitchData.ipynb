{
 "cells": [
  {
   "cell_type": "markdown",
   "id": "8f7620a1",
   "metadata": {},
   "source": [
    "Importing Pandas; Files; Pyplot"
   ]
  },
  {
   "cell_type": "code",
   "execution_count": 96,
   "id": "00d5fe24",
   "metadata": {},
   "outputs": [],
   "source": [
    "import pandas as pd\n",
    "import matplotlib.pyplot as plt\n",
    "import math\n",
    "\n",
    "channelreport= pd.read_csv(\"./AprilChannels2021.csv\")"
   ]
  },
  {
   "cell_type": "markdown",
   "id": "aa77d717",
   "metadata": {},
   "source": [
    "April Channels:"
   ]
  },
  {
   "cell_type": "markdown",
   "id": "90e77a85",
   "metadata": {},
   "source": [
    "Top; Lowest; Total Values"
   ]
  },
  {
   "cell_type": "code",
   "execution_count": 97,
   "id": "b1305064",
   "metadata": {},
   "outputs": [
    {
     "name": "stdout",
     "output_type": "stream",
     "text": [
      "Queston 1:\n",
      "\n",
      "Highset Time Streamed: otplol_ 719.5\n",
      "Highset All-Time Peak Viewers: TheGrefg 2470347\n",
      "Highset Hours Watched: xQcOW 29880024\n",
      "Highset Total Followers: Ninja 16618958\n",
      "Highset Total Views: Fextralife 1437723478\n",
      "\n",
      "\n",
      "Question 2:\n",
      "\n",
      "Highest Followers Gained: AdinRoss 2006717\n",
      "Lowest Followers Gained: sodapoppin -3245652\n",
      "\n",
      "\n",
      "Question 6:\n",
      "\n",
      "Total Time Streamed: 72026.80000000002\n",
      "\n",
      "\n",
      "Question 7:\n",
      "\n",
      "Total Hours Watched: 829974419\n",
      "\n",
      "\n",
      "Question 8:\n",
      "\n",
      "Highest Total Followers Of March: Ninja 288334\n"
     ]
    }
   ],
   "source": [
    "#ReadingFile\n",
    "timestreamed=channelreport[\"Time Streamed\"]\n",
    "channelname=channelreport[\"Channel\"]\n",
    "peak=channelreport[\"All-Time Peak Viewers\"]\n",
    "hours=channelreport[\"Hours Watched\"]\n",
    "totalf=channelreport[\"Total Followers\"]\n",
    "totalv=channelreport[\"Total Views\"]\n",
    "gainf=channelreport[\"Followers Gained\"]\n",
    "\n",
    "name=''\n",
    "def FindHighest(Listy,stringy):\n",
    "    top=0\n",
    "    for i in range(len(timestreamed)):\n",
    "        if Listy[top] < Listy[i]:\n",
    "            top=i\n",
    "    name=channelname[top]\n",
    "    print(stringy,name,Listy[top])\n",
    "    \n",
    "def FindLowest(Listy,stringy):\n",
    "    top=0\n",
    "    for i in range(len(timestreamed)):\n",
    "        if Listy[top] > Listy[i]:\n",
    "            top=i\n",
    "    name=channelname[top]\n",
    "    print(stringy,name,Listy[top])\n",
    "    \n",
    "def FindTotal(Listy,stringy):\n",
    "    total=0\n",
    "    for i in Listy:\n",
    "        total+=(i)\n",
    "    print(stringy,total)\n",
    "    \n",
    "def FindHighestMarch(Listy,stringy):\n",
    "    top=0\n",
    "    for i in range(len(timestreamed)):\n",
    "        gained=gainf[i]\n",
    "        if gained > 0:\n",
    "            number=Listy[i]-gainf[i]\n",
    "            if Listy[top] < number:\n",
    "                top=i\n",
    "                finalnumber=number\n",
    "        else:\n",
    "            number=Listy[i]+gainf[i]\n",
    "            if Listy[top] < number:\n",
    "                top=i\n",
    "                finalnumber=number\n",
    "            \n",
    "    name=channelname[top]\n",
    "    print(stringy,name,str(int(Listy[top])-int(finalnumber)))\n",
    "\n",
    "print('Queston 1:\\n')\n",
    "FindHighest(timestreamed,\"Highset Time Streamed:\")\n",
    "FindHighest(peak,\"Highset All-Time Peak Viewers:\")\n",
    "FindHighest(hours,\"Highset Hours Watched:\")\n",
    "FindHighest(totalf,\"Highset Total Followers:\")\n",
    "FindHighest(totalv,\"Highset Total Views:\")\n",
    "print(\"\\n\")\n",
    "print('Question 2:\\n')\n",
    "FindHighest(gainf,\"Highest Followers Gained:\")\n",
    "FindLowest(gainf, \"Lowest Followers Gained:\")\n",
    "print(\"\\n\")\n",
    "print('Question 6:\\n')\n",
    "FindTotal(timestreamed,\"Total Time Streamed:\")\n",
    "print(\"\\n\")\n",
    "print('Question 7:\\n')\n",
    "FindTotal(hours,\"Total Hours Watched:\")\n",
    "print(\"\\n\")\n",
    "print('Question 8:\\n')\n",
    "FindHighestMarch(totalf,\"Highest Total Followers Of March:\")"
   ]
  },
  {
   "cell_type": "code",
   "execution_count": 98,
   "id": "334f806e",
   "metadata": {},
   "outputs": [
    {
     "name": "stdout",
     "output_type": "stream",
     "text": [
      "Question 3:\n",
      "\n",
      "Followers Per hour streamed:\n",
      "\n"
     ]
    },
    {
     "data": {
      "image/png": "[encoded data removed]",
      "text/plain": [
       "<Figure size 432x288 with 1 Axes>"
      ]
     },
     "metadata": {
      "needs_background": "light"
     },
     "output_type": "display_data"
    }
   ],
   "source": [
    "print('Question 3:\\n')\n",
    "print('Followers Per hour streamed:\\n')\n",
    "for i in range(10):\n",
    "    number=timestreamed[i]/gainf[i]\n",
    "    plt.bar(i+1,totalf[i]/timestreamed[i])\n",
    "plt.legend(labels=channelname[0:10])\n",
    "plt.show()\n",
    "\n"
   ]
  },
  {
   "cell_type": "markdown",
   "id": "5cf87bd0",
   "metadata": {},
   "source": [
    "Average Viewers / Time Streamed"
   ]
  },
  {
   "cell_type": "code",
   "execution_count": 99,
   "id": "782784b8",
   "metadata": {},
   "outputs": [
    {
     "name": "stdout",
     "output_type": "stream",
     "text": [
      "Question 4:\n",
      "\n",
      "tommyinnit \n",
      " Average Viewers/Time Streamed: 2818314 \n",
      " Hours Watched: 2822624 \n",
      " Difference: 4309\n",
      "auronplay \n",
      " Average Viewers/Time Streamed: 10062420 \n",
      " Hours Watched: 10066242 \n",
      " Difference: 3822\n",
      "GeorgeNotFound \n",
      " Average Viewers/Time Streamed: 1616553 \n",
      " Hours Watched: 1610944 \n",
      " Difference: 5609\n",
      "loud_coringa \n",
      " Average Viewers/Time Streamed: 9119142 \n",
      " Hours Watched: 9115827 \n",
      " Difference: 3315\n",
      "Sapnap \n",
      " Average Viewers/Time Streamed: 906313 \n",
      " Hours Watched: 903241 \n",
      " Difference: 3072\n"
     ]
    }
   ],
   "source": [
    "average=channelreport[\"Avg. Viewers\"]\n",
    "print('Question 4:\\n')\n",
    "for i in range(len(average)):\n",
    "    at=average[i]*timestreamed[i]\n",
    "    if at <hours[i]-3000:\n",
    "        print(channelname[i],\"\\n Average Viewers/Time Streamed:\",int(at),\"\\n Hours Watched:\",int(hours[i]),\"\\n Difference:\",int(hours[i]-at))\n",
    "    if at >hours[i]+3000:\n",
    "        print(channelname[i],\"\\n Average Viewers/Time Streamed:\",int(at),\"\\n Hours Watched:\",int(hours[i]),\"\\n Difference:\",int(at-hours[i]))"
   ]
  },
  {
   "cell_type": "code",
   "execution_count": 100,
   "metadata": {},
   "outputs": [
    {
     "name": "stdout",
     "output_type": "stream",
     "text": [
      "Question 5:\n"
     ]
    },
    {
     "data": {
      "image/png": "[encoded data removed]",
      "text/plain": [
       "<Figure size 432x288 with 1 Axes>"
      ]
     },
     "metadata": {
      "needs_background": "light"
     },
     "output_type": "display_data"
    }
   ],
   "source": [
    "print(\"Question 5:\")\n",
    "peak2=[]\n",
    "original=[]\n",
    "for i in peak:\n",
    "    peak2.append(i)\n",
    "    original.append(i)\n",
    "peak2.sort(reverse=True)\n",
    "\n",
    "names=[]\n",
    "for i in channelname:\n",
    "    names.append(i)\n",
    "\n",
    "listy=[]\n",
    "z=0\n",
    "for i in peak2[0:10]:\n",
    "    z+=1\n",
    "    plt.bar(z,i)\n",
    "    listy.append(names[original.index(i)])\n",
    "plt.legend(labels=listy)\n",
    "plt.show()"
   ]
  },
  {
   "cell_type": "markdown",
   "id": "c145155a",
   "metadata": {},
   "source": [
    "2018 Data:"
   ]
  },
  {
   "cell_type": "code",
   "execution_count": 101,
   "id": "8c327652",
   "metadata": {},
   "outputs": [],
   "source": [
    "jan=pd.read_csv(\"2018jan.csv\")\n",
    "feb=pd.read_csv(\"2018feb.csv\")\n",
    "mar=pd.read_csv(\"2018mar.csv\")\n",
    "apr=pd.read_csv(\"2018apr.csv\")\n",
    "may=pd.read_csv(\"2018may.csv\")\n",
    "jun=pd.read_csv(\"2018jun.csv\")\n",
    "jul=pd.read_csv(\"2018jul.csv\")\n",
    "aug=pd.read_csv(\"2018aug.csv\")\n",
    "sep=pd.read_csv(\"2018sep.csv\")\n",
    "oct=pd.read_csv(\"2018oct.csv\")\n",
    "nov=pd.read_csv(\"2018nov.csv\")\n",
    "dec=pd.read_csv(\"2018dec.csv\")\n",
    "ovr=pd.read_csv(\"twitch2018overall.csv\")\n",
    "\n",
    "listofDF=[]\n",
    "listofDF.append(jan)\n",
    "listofDF.append(feb)\n",
    "listofDF.append(mar)\n",
    "listofDF.append(apr)\n",
    "listofDF.append(may)\n",
    "listofDF.append(jun)\n",
    "listofDF.append(jul)\n",
    "listofDF.append(aug)\n",
    "listofDF.append(sep)\n",
    "listofDF.append(oct)\n",
    "listofDF.append(nov)\n",
    "listofDF.append(dec)\n",
    "months=[\"jan\",\"feb\",\"mar\",\"apr\",\"may\",\"jun\",\"jul\",\"aug\",\"sep\",\"oct\",\"nov\",\"dec\"]\n",
    "\n",
    "ovr2=ovr[\"Game Title\"]\n",
    "del ovr[\"Game Title\"]\n"
   ]
  },
  {
   "cell_type": "markdown",
   "id": "1ab7c60d",
   "metadata": {},
   "source": [
    "Games In The Top 500 Every Month:"
   ]
  },
  {
   "cell_type": "code",
   "execution_count": 102,
   "id": "538dce07",
   "metadata": {},
   "outputs": [
    {
     "name": "stdout",
     "output_type": "stream",
     "text": [
      "\n",
      "\n",
      "Question 1:\n",
      "\n",
      "7 Days to Die\n",
      "Age of Empires II\n",
      "Alien: Isolation\n",
      "Always On\n",
      "Arena of Valor\n",
      "ARK\n",
      "Arma 3\n",
      "Battlefield 1\n",
      "Battlerite\n",
      "Black Desert Online\n",
      "Black Squad\n",
      "Blade and Soul\n",
      "Bloodborne\n",
      "Board Games\n",
      "Borderlands 2\n",
      "Brawlhalla\n",
      "Call of Duty: Black Ops III\n",
      "Celeste\n",
      "Chess\n",
      "Cities: Skylines\n",
      "Clash Royale\n",
      "Counter-Strike: Global Offensive\n",
      "Cuphead\n",
      "Dark Souls\n",
      "Dark Souls II: Scholar of the First Sin\n",
      "Dark Souls III\n",
      "Darkest Dungeon\n",
      "Dauntless\n",
      "DayZ\n",
      "Dead by Daylight\n",
      "Dead Cells\n",
      "Deceit\n",
      "Destiny 2\n",
      "Diablo II: Lord of Destruction\n",
      "Diablo III: Reaper of Souls\n",
      "Divinity: Original Sin II\n",
      "Dofus\n",
      "Don't Starve Together\n",
      "Dota 2\n",
      "Dragon Ball FighterZ\n",
      "Dungeons & Dragons\n",
      "Dying Light\n",
      "Elite: Dangerous\n",
      "Enter the Gungeon\n",
      "Escape From Tarkov\n",
      "Eternal\n",
      "Euro Truck Simulator 2\n",
      "Europa Universalis IV\n",
      "EVE Online\n",
      "Factorio\n",
      "Fallout 4\n",
      "Fate/Grand Order\n",
      "Final Fantasy VII\n",
      "FINAL FANTASY XIV Online\n",
      "For Honor\n",
      "Fortnite\n",
      "Friday the 13th: The Game\n",
      "FTL: Faster Than Light\n",
      "Games + Demos\n",
      "Garry's Mod\n",
      "Gears of War 4\n",
      "Girls Frontline\n",
      "Golf It!\n",
      "Golf With Your Friends\n",
      "Grand Theft Auto V\n",
      "Grand Theft Auto: San Andreas\n",
      "Guild Wars 2\n",
      "Guitar Hero III: Legends of Rock\n",
      "Gwent: The Witcher Card Game\n",
      "Halo 5: Guardians\n",
      "Hearthstone\n",
      "Hearts of Iron IV\n",
      "Heroes of Might and Magic III: The Shadow of Death\n",
      "Heroes of Newerth\n",
      "Heroes of the Storm\n",
      "Hollow Knight\n",
      "Human: Fall Flat\n",
      "Hunt: Showdown\n",
      "I Wanna Be The Guy\n",
      "Infestation: The New Z\n",
      "iRacing.com\n",
      "Kerbal Space Program\n",
      "Kingdom Hearts HD I.5 + II.5 Remix\n",
      "Knight Online\n",
      "League of Legends\n",
      "Left 4 Dead 2\n",
      "Life Is Strange\n",
      "Lineage II\n",
      "M.U.G.E.N\n",
      "Magic: The Gathering\n",
      "MapleStory\n",
      "Mario Kart 8\n",
      "MechWarrior Online\n",
      "Metin 2\n",
      "Microsoft Flight Simulator X\n",
      "Minecraft\n",
      "Monster Hunter World\n",
      "Music & Performing Arts\n",
      "My Summer Car\n",
      "Neverwinter\n",
      "Nioh\n",
      "osu!\n",
      "Outlast\n",
      "Overwatch\n",
      "Oxygen Not Included\n",
      "Paladins\n",
      "Path of Exile\n",
      "Persona 5\n",
      "PLAYERUNKNOWN'S BATTLEGROUNDS\n",
      "Pokémon Ultra Sun/Ultra Moon\n",
      "Poker\n",
      "Prime World\n",
      "Quake Champions\n",
      "Ragnarok Online\n",
      "Resident Evil 4\n",
      "Resident Evil 7 biohazard\n",
      "Retro\n",
      "RimWorld\n",
      "ROBLOX\n",
      "Rocket League\n",
      "RuneScape\n",
      "Rust\n",
      "Sea of Thieves\n",
      "Shadowverse\n",
      "Sid Meier's Civilization V\n",
      "Slay the Spire\n",
      "Smite\n",
      "Splatoon 2\n",
      "Star Citizen\n",
      "StarCraft\n",
      "StarCraft II\n",
      "Stardew Valley\n",
      "Street Fighter V\n",
      "Subnautica\n",
      "Summoners War: Sky Arena\n",
      "Super Mario 64\n",
      "Super Mario Maker\n",
      "Super Mario Odyssey\n",
      "Super Mario World\n",
      "Super Metroid\n",
      "Super Smash Bros. for Wii U\n",
      "Super Smash Bros. Melee\n",
      "Talk Shows & Podcasts\n",
      "Team Fortress 2\n",
      "Tekken 7\n",
      "Terraria\n",
      "The Binding of Isaac: Afterbirth\n",
      "The Elder Scrolls Online\n",
      "The Elder Scrolls V: Skyrim\n",
      "The Elder Scrolls: Legends\n",
      "The Forest\n",
      "The Jackbox Party Pack 3\n",
      "The Jackbox Party Pack 4\n",
      "The Last of Us\n",
      "The Legend of Zelda: A Link to the Past\n",
      "The Legend of Zelda: Breath of the Wild\n",
      "The Legend of Zelda: Majora's Mask\n",
      "The Legend of Zelda: Ocarina of Time\n",
      "The Sims 4\n",
      "The Witcher 3: Wild Hunt\n",
      "They Are Billions\n",
      "Throne of Lies: The Online Game of Deceit\n",
      "Tibia\n",
      "Tom Clancy's Rainbow Six: Siege\n",
      "Tom Clancy's The Division\n",
      "Total War: Warhammer II\n",
      "Twitch Plays\n",
      "Undertale\n",
      "Until Dawn\n",
      "VRChat\n",
      "War Thunder\n",
      "Warcraft III: The Frozen Throne\n",
      "Warframe\n",
      "World of Tanks\n",
      "World of Warcraft\n",
      "World of Warships\n",
      "Wrestling\n",
      "XCOM 2\n",
      "XCOM 2: War of the Chosen\n",
      "Yakuza 0\n",
      "Yu-Gi-Oh! Duel Links\n",
      "Z1 Battle Royale\n"
     ]
    }
   ],
   "source": [
    "print(\"\\n\")\n",
    "print('Question 1:\\n')\n",
    "for index in (range(len(ovr2))):\n",
    "    if ovr[\"January\"][index] >0 and ovr[\"February\"][index]>0 and ovr[\"March\"][index]>0 and ovr[\"April\"][index]>0 and ovr[\"May\"][index]>0 and ovr[\"June\"][index]>0 and ovr[\"July\"][index] >0 and ovr[\"August\"][index] >0 and ovr[\"September\"][index] >0 and ovr[\"November\"][index] >0 and ovr[\"October\"][index] >0 and ovr[\"December\"][index] >0:\n",
    "        print(ovr2[index])\n",
    "    "
   ]
  },
  {
   "cell_type": "markdown",
   "id": "8a22b0f2",
   "metadata": {},
   "source": [
    "Most Viewers Each Month"
   ]
  },
  {
   "cell_type": "code",
   "execution_count": 103,
   "id": "3ecb2d35",
   "metadata": {},
   "outputs": [
    {
     "name": "stdout",
     "output_type": "stream",
     "text": [
      "\n",
      "\n",
      "Question 2:\n",
      "\n",
      "jan Counter-Strike: Global Offensive 1298358\n",
      "feb PLAYERUNKNOWN'S BATTLEGROUNDS 482947\n",
      "mar Fortnite 862789\n",
      "apr Fortnite 657462\n",
      "may Fortnite 576926\n",
      "jun E3 2018 1817345\n",
      "jul Fortnite 827125\n",
      "aug Boxing Fight 1097362\n",
      "sep Counter-Strike: Global Offensive 827050\n",
      "oct League of Legends 911568\n",
      "nov League of Legends 1147825\n",
      "dec The Game Awards 819968\n",
      "\n",
      "\n",
      "Queston 3:\n",
      "\n",
      "\n",
      "\n",
      "Fortnite\n",
      "\n"
     ]
    },
    {
     "data": {
      "image/png": "[encoded data removed]",
      "text/plain": [
       "<Figure size 432x288 with 1 Axes>"
      ]
     },
     "metadata": {},
     "output_type": "display_data"
    }
   ],
   "source": [
    "print(\"\\n\")\n",
    "print('Question 2:\\n')\n",
    "bg=\"\"\n",
    "bgdf=0\n",
    "bgindex=0\n",
    "nameofgames=[]\n",
    "viewsofgames=[]\n",
    "\n",
    "iteration=0\n",
    "i=0\n",
    "for df in listofDF:\n",
    "    for index in range(len(df[\"Peak viewers\"])):\n",
    "        if df[\"Peak viewers\"][index] > i:\n",
    "            i=df[\"Peak viewers\"][index]\n",
    "            iofgame=index\n",
    "    nameofgames.append(df[\"Game\"][iofgame])\n",
    "    viewsofgames.append(i)\n",
    "    iteration+=1\n",
    "    i=0\n",
    "    index=0\n",
    "\n",
    "for i in range(12):\n",
    "    print(months[i],nameofgames[i],viewsofgames[i])\n",
    "    \n",
    "CheckList=[]\n",
    "CheckListV=[]\n",
    "for i in range(len(nameofgames)):\n",
    "    if nameofgames[i] in CheckList:\n",
    "        index=CheckList.index(nameofgames[i])\n",
    "        CheckListV[index]+=viewsofgames[i]\n",
    "    else:\n",
    "        CheckList.append(nameofgames[i])\n",
    "        CheckListV.append(viewsofgames[i])\n",
    "        \n",
    "        \n",
    "\n",
    "\n",
    "\n",
    "print(\"\\n\")\n",
    "print('Queston 3:\\n')\n",
    "print(\"\\n\")\n",
    "print('Fortnite\\n')\n",
    "plt.pie(CheckListV,labels = CheckList)\n",
    "plt.show()\n",
    "            \n",
    "            \n",
    "        "
   ]
  },
  {
   "cell_type": "markdown",
   "id": "852f51e7",
   "metadata": {},
   "source": [
    "Lego"
   ]
  },
  {
   "cell_type": "code",
   "execution_count": 104,
   "id": "6220d3ec",
   "metadata": {},
   "outputs": [
    {
     "name": "stdout",
     "output_type": "stream",
     "text": [
      "\n",
      "\n",
      "Question 4:\n",
      "\n",
      "LEGO DC Super-Villains 15495\n"
     ]
    }
   ],
   "source": [
    "print(\"\\n\")\n",
    "print('Question 4:\\n')\n",
    "Lname=[]\n",
    "Lviews=[]\n",
    "views=0\n",
    "for index in (range(len(ovr2))):\n",
    "    if \"Lego\" in ovr2[index] or \"lego\" in ovr2[index] or \"LEGO\" in ovr2[index]:\n",
    "        for i in ovr:\n",
    "            if math.isnan(ovr[i][index])==False:\n",
    "                views+=int(ovr[i][index])\n",
    "        Lname.append(ovr2[index])\n",
    "        Lviews.append(views)\n",
    "index=0\n",
    "views=0\n",
    "for i in range(len(Lviews)):\n",
    "    if Lviews[i]<views:\n",
    "        views=Lviews[i]\n",
    "        index=i\n",
    "print(Lname[index],Lviews[index])\n",
    "    \n",
    "    \n",
    "    "
   ]
  },
  {
   "cell_type": "markdown",
   "id": "131a6748",
   "metadata": {},
   "source": [
    "Highest Views Each Month"
   ]
  },
  {
   "cell_type": "code",
   "execution_count": 105,
   "metadata": {},
   "outputs": [
    {
     "name": "stdout",
     "output_type": "stream",
     "text": [
      "\n",
      "\n",
      "Question 5:\n",
      "\n",
      "jan 25767838\n"
     ]
    },
    {
     "data": {
      "image/png": "[encoded data removed]",
      "text/plain": [
       "<Figure size 432x288 with 1 Axes>"
      ]
     },
     "metadata": {
      "needs_background": "light"
     },
     "output_type": "display_data"
    },
    {
     "name": "stdout",
     "output_type": "stream",
     "text": [
      "\n",
      "\n",
      "Queston 6:\n",
      "\n",
      " The Reason For A Lot of Views in January May Have Been Have Caused By The Covid-19 Pandemic \n"
     ]
    }
   ],
   "source": [
    "print(\"\\n\")\n",
    "print('Question 5:\\n')\n",
    "monthviews=[]\n",
    "for header in ovr:\n",
    "    views=0\n",
    "    for i in ovr[header]:\n",
    "        if math.isnan(i)==False:\n",
    "            views+=int(i)\n",
    "    monthviews.append(views)\n",
    "views=0\n",
    "for i in range(len(monthviews)):\n",
    "    if monthviews[i]<views:\n",
    "        views=monthviews[i]\n",
    "        index=i\n",
    "print(months[index],monthviews[index])\n",
    "\n",
    "#for i in range(len(months)):\n",
    "#    print(months[i],monthviews[i])\n",
    "\n",
    "plt.plot(months,monthviews)\n",
    "plt.show()\n",
    "print(\"\\n\")\n",
    "print('Queston 6:\\n')\n",
    "print(f\" The Reason For A Lot of Views in January May Have Been Have Caused By The Covid-19 Pandemic \")\n",
    "\n",
    "\n",
    "    "
   ]
  },
  {
   "cell_type": "markdown",
   "id": "1a99f0a8",
   "metadata": {},
   "source": [
    "What is Pokémon: Let’s Go, Pikachu!/Eevee! ? Question 7:"
   ]
  },
  {
   "cell_type": "markdown",
   "id": "c0b8450f",
   "metadata": {},
   "source": [
    "'''{toggle}\n",
    "\n",
    "\n",
    "Pokémon: Let's Go, Pikachu![a] and Pokémon: Let's Go, Eevee![b] are 2018 remakes of the 1998 Game Boy Color role-playing video game Pokémon Yellow. They were developed by Game Freak and jointly published by The Pokémon Company and Nintendo for the Nintendo Switch.[2] Announced in May 2018, Let's Go, Pikachu! and Let's Go, Eevee! were released worldwide for the Nintendo Switch on 16 November 2018. The games are part of the seventh generation of the Pokémon video game series and are the first main series installments to be released for a home game console. They feature connectivity with the mobile game Pokémon Go and support an optional controller, the Poké Ball Plus.\n",
    "\n",
    "Pokémon: Let's Go, Pikachu! and Let's Go, Eevee! were first announced at a Japanese press conference in May 2018, with the intention for the games to bring in newcomers to the series as well as cater to old fans. They were also meant to appeal to a younger audience; for this reason, the games incorporate elements from the anime, similarly to Pokémon Yellow.[3][4][5] They received generally favorable reviews from critics, with praise directed to the accessibility and charm, whilst criticism was directed towards the motion controls. The games have combined worldwide sales of over 14 million as of December 2021, making them one of the best-selling games for the system.[6][2] Pokémon: Let's Go, Pikachu! and Let's Go, Eevee! are set in the Kanto region and include the original 151 Pokémon in addition to their respective Mega Evolved forms from Pokémon X, Y, Omega Ruby and Alpha Sapphire and their Alolan Forms from Pokémon Sun and Moon.\n",
    "\n",
    "Let's Go, Pikachu! and Let's Go, Eevee! feature common elements of the main series, such as battling non-player character Pokémon Trainers and Gym Leaders with caught Pokémon creatures. However, when facing wild Pokémon, instead of battling them with the traditional battle system like in past games, the catching of Pokémon uses a system that is reminiscent of the mobile spin-off game Pokémon Go. By using the motion controls of the Joy-Con controller or Poké Ball Plus peripheral, players can throw berries to pacify a Pokémon or Poké Balls to attempt to capture it.[3][7] The action can also be performed with a button press when the Joy-Con controllers are docked to the console or in handheld mode, but this still requires using motion controls to aim.[8] If a player uses motion controls, the catching of Pokémon is based on the player's timing rather than accuracy. Although it is possible to miss a throw, the ball is almost guaranteed to make contact with the Pokémon.[9] One notable difference in Let's Go, Pikachu! and Let's Go, Eevee! is that wild Pokémon are visible from the overworld, rather than as random encounters in grass or in caves like in previous main series Pokémon role-playing games. To start an encounter with a wild Pokémon, the player must simply approach the Pokémon in the environment.[10]\n",
    "\n",
    "The games' control scheme is designed to only require one Joy-Con per player, and the games support cooperative multiplayer. If another player shakes a second Joy-Con, they can join the current player and are able to participate in battles with Pokémon Trainers and wild Pokémon encounters, allowing them to aid the catching of wild Pokémon. When playing multiplayer, Trainer battles become battles of two Pokémon against one, and in wild encounters, there is the possibility for each player to throw a Poké Ball at the same time, doubling the chances of capturing the Pokémon.\n",
    "\n",
    "Depending on the version, players start with either a Pikachu or an Eevee, which sits on the player character's shoulder in the overworld. This mechanic is similar to the \"walking Pokémon\" mechanic first introduced in Pokémon Yellow, in which Pikachu followed behind the player character throughout the game.[3] The player's partner Pokémon wiggles its tail when they are near a hidden item, and it can be dressed up for further customization. Similarly to Pokémon HeartGold and SoulSilver, players may also choose a Pokémon to follow them,[11] and some larger Pokémon can also be ridden, a mechanic first seen in Pokémon X and Y and later expanded on in Sun and Moon.\n",
    "\n",
    "Since Pokémon X and Y, experience points are rewarded to Pokémon not only by defeating opponent Pokémon but also by catching wild Pokémon. However, in Let's Go, Pikachu! and Let's Go, Eevee! experience points rewarded by catching wild Pokémon are affected by various multiplier bonuses depending on the timing of the throw and the technique used to throw the Poké Ball, such as performing an overarm or underarm throw. The games also introduce new items called \"candies,\" which are used to power up a Pokémon's statistics, such as hit points (HP), Attack, Defense, Special Attack, Special Defense, and Speed. Different types of candies are awarded to players who transfer their Pokémon to Professor Oak via an in-game storage box. \"Combat Power\" (CP) also returns from Pokémon Go.[9][12]\n",
    "\n",
    "The evolution mechanic from previous games returns in Let's Go, Pikachu! and Let's Go, Eevee!. However, as with Pokémon Yellow, the player's starting Pikachu or Eevee cannot evolve; only other Pokémon that the player has caught, including ones of the same species as the partner Pokémon. Some features, like Pokémon breeding and HMs, are absent from the games.[13]\n",
    "Connectivity\n",
    "\n",
    "Players can trade Pokémon and battle other players both locally and online, with online features being simplified in comparison with previous games. Some features—including the Global Trade System, Wonder Trade, and Battle Spot—are absent from Let's Go, Pikachu! and Let's Go, Eevee!. In order to connect with others to trade or battle online, players must use a code composed of three Pokémon glyphs, selected from a total of eight. When two players enter the same code, they are connected to trade Pokémon with or battle each other.[9] A subscription to the Nintendo Switch Online service is required to use online functionality.[14]\n",
    "\n",
    "Although Let's Go, Pikachu! and Let's Go, Eevee! feature integration with Pokémon Go, this is optional.[13] Players can transfer the original first generation Pokémon and their respective Alolan Forms from Pokémon Go to Let's Go, Pikachu! or Let's Go, Eevee!. They then appear at the Go Park—an in-game location where the player can explore and interact with or catch Pokémon that are walking around. Pokémon with higher CP or levels are harder to catch, in that the catch attempt has a higher chance of failing.[12][13] Users are also able to exchange unspecified \"gifts\" between Pokémon Go and Let's Go, Pikachu! or Let's Go, Eevee!.[7] \n",
    "\n",
    "Poké Ball Plus\n",
    "\n",
    "The games support the Poké Ball Plus, an optional controller shaped like a Poké Ball which features an analog stick, motion control support, HD Rumble feedback, and lighting effects. The analog stick doubles as a capture button in case the player does not wish to use the motion controls. Pokémon can also be transferred to it, in a similar way to the Pokéwalker. During Nintendo's E3 2018 Nintendo Direct presentation on 12 June 2018, it was revealed that the Poké Ball Plus would come with a Mew that can be transferred to the games.[15][16] \n",
    "\n",
    "Plot\n",
    "\n",
    "See also: Plot of Pokémon Yellow\n",
    "\n",
    "The setting and story remains largely the same as Pokémon Yellow.\n",
    "\n",
    "The eight Gym Leaders and the members of the Elite Four return, as well as the antagonist faction Team Rocket, including Jessie, James and Meowth, from the anime series. Unlike the anime series, Meowth cannot speak the human language and is given his own Meowth cry. \n",
    "\n",
    "Release\n",
    "\n",
    "The games were released internationally on 16 November 2018. Bundles of the games with the Poké Ball Plus controller were announced,[19] as well as Nintendo Switch console bundles, including the game, brown and yellow colored Joy-Con, and a dock with artwork of Eevee and Pikachu.[20] On 21 September 2018, Amazon began offering pre-orders for the Let's Go, Pikachu! and Let's Go, Eevee! Switch bundle.[21] \n",
    "\n",
    "Pokémon: Let's Go, Pikachu! and Let's Go, Eevee! received \"generally favorable reviews\" from critics, according to review aggregator Metacritic.[22][23] Critics applauded the gameplay, nostalgia, accessibility to new players, and charm of the games, while criticising its motion controls.\n",
    "\n",
    "IGN's Miranda Sanchez praised the game's catching mechanic which drew inspiration from the gameplay of Pokémon Go. She mentioned that she could \"prioritize catching the Pokémon I actually wanted\" and avoiding undesired ones thanks to the games' new overworld view of the Pokémon.[34]\n",
    "\n",
    "The implementation of the motion controls has been criticized by some sources for reducing accessibility to some players with fine-motor or physical disabilities.[35][36][37]\n",
    "Sales\n",
    "\n",
    "In Japan, Let's Go, Pikachu! and Let's Go, Eevee! topped the software sales chart and sold 661,240 physical retail units in their opening weekend, and were responsible for almost quadrupling Nintendo Switch hardware sales for the week.[38] They remained at the top of the Japanese charts in their third week, bringing its physical retail sales to 1,012,247 units in Japan by 9 December 2018.[39] By 16 December 2018, the games had sold 1,121,020 physical retail units in Japan.[40] As of 6 January 2019, the games have sold 1,399,595 physical retail units in Japan.[41]\n",
    "\n",
    "The NPD reported the launch sales of Let's Go, Pikachu! and Let's Go, Eevee! in North America as being positive and described it as \"the most important launch\" of the year.[42] On streaming site Twitch, the games were the most-viewed titles on launch day with 125,457 viewers, above Fortnite.[43] Within ten days of release, the games sold over 1.5 million units in the United States, as of 26 November 2018.[44] As of 18 December 2018, the games had sold 2 million units in the US.[45] They had the second highest launch month ever in dollar sales for the franchise in the US, behind only Pokémon Stadium.[46]\n",
    "\n",
    "In the United Kingdom, Let's Go, Pikachu! and Let's Go, Eevee! launched with 116,000 physical retail sales in their opening weekend, becoming the top-selling games of the week,[47] despite competition from new releases such as Spyro Reignited Trilogy, Fallout 76 and Hitman 2.[48] They also had a positive impact on Switch hardware sales, which in turn boosted sales of other Switch games including several Mario games, The Legend of Zelda: Breath of the Wild and Just Dance 2019.[48] Individually, Let's Go, Pikachu! debuted at third place in the UK's all-format sales charts,[49] and Let's Go, Eevee! placed sixth on the same chart.[50] UK sales were down 60% on the sales of Pokémon Sun and Moon, the preceding games in the franchise,[51] due to the Switch having a smaller install base than the Nintendo 3DS and stock problems.[49][51] The games sold over 338,270 physical retail units in 2018,[52] making them the year's eleventh best-selling retail games in the UK.[53]\n",
    "\n",
    "On 22 November 2018, The Pokémon Company announced that the games had sold over 3 million units worldwide in their first week on sale,[54] making them the fastest-selling Nintendo Switch titles.[55] By the end of December 2021, total worldwide sales have reached 14.33 million copies.[56] \n",
    "\n",
    "Year \tAward \tCategory \tResult \tRef\n",
    "2018 \tGame Critics Awards \tBest RPG \tNominated \t[6]\n",
    "Best Family/Social Game \tNominated\n",
    "Australian Games Awards \tFamily/Kids Title of the Year \tNominated \t[57]\n",
    "RPG of the Year \tNominated\n",
    "2019 \tNew York Game Awards \tCentral Park Children's Zoo Award for Best Kids Game \tNominated \t[58]\n",
    "National Academy of Video Game Trade Reviewers Awards \tGame, Classic Revival \tNominated \t[59]\n",
    "15th British Academy Games Awards \tFamily \tNominated \t[60]\n",
    "Famitsu Awards \tExcellence Prize \tWon \t[61]\n",
    "Italian Video Game Awards \tPeople's Choice \tNominated \t[62]\n",
    "Golden Joystick Awards \tNintendo Game of the Year \tNominated \t[63]\n",
    "\n",
    "\n",
    "Source: https://en.wikipedia.org/wiki/Pok%C3%A9mon:_Let%27s_Go,_Pikachu!_and_Let%27s_Go,_Eevee!\n",
    "'''"
   ]
  },
  {
   "cell_type": "markdown",
   "id": "85e39ea2",
   "metadata": {},
   "source": [
    "Is your favorite game on this list? Question 8:"
   ]
  },
  {
   "cell_type": "markdown",
   "id": "47c08327",
   "metadata": {},
   "source": [
    "Yes, The X-COM Franchise. Sadly There is not the original Sonic & All Stars Racing :,("
   ]
  },
  {
   "cell_type": "markdown",
   "id": "e918e83d",
   "metadata": {},
   "source": [
    "Peak Viewer Per Month Graph"
   ]
  },
  {
   "cell_type": "code",
   "execution_count": 106,
   "id": "1480ec53",
   "metadata": {},
   "outputs": [
    {
     "name": "stdout",
     "output_type": "stream",
     "text": [
      "\n",
      "\n",
      "Question 9:\n",
      "\n"
     ]
    },
    {
     "data": {
      "image/png": "[encoded data removed]",
      "text/plain": [
       "<Figure size 432x288 with 1 Axes>"
      ]
     },
     "metadata": {
      "needs_background": "light"
     },
     "output_type": "display_data"
    }
   ],
   "source": [
    "print(\"\\n\")\n",
    "print('Question 9:\\n')\n",
    "gameviews=[]\n",
    "for i in range(len(ovr2)):\n",
    "    views=0\n",
    "    for header in ovr:\n",
    "        j = ovr[header][i]\n",
    "        if math.isnan(j)==False:\n",
    "            views+=int(j)\n",
    "    gameviews.append(views)\n",
    "viewssort=gameviews.copy()\n",
    "viewssort.sort(reverse=True)\n",
    "\n",
    "#For Future Use ;-;(Reminder for myself)\n",
    "'''\n",
    "plt.figure(figsize=(25,3))\n",
    "for i in range(10):\n",
    "    plt.bar(ovr2[gameviews.index(viewssort[i])],viewssort[i],align=\"center\",width=0.5)\n",
    "plt.show()\n",
    "'''\n",
    "\n",
    "index=[]\n",
    "for i in range(10):\n",
    "    index.append(gameviews.index(viewssort[i]))\n",
    "    \n",
    "listofx=[]\n",
    "for i in index:\n",
    "    views=0\n",
    "    x=[]\n",
    "    for header in ovr:\n",
    "        j = ovr[header][i]\n",
    "        x.append(j)\n",
    "    listofx.append(x)\n",
    "\n",
    "labels=[]\n",
    "for i in range(10):\n",
    "    labels.append(ovr2[gameviews.index(viewssort[i])])\n",
    "\n",
    "for i in range(len(listofx)):\n",
    "    plt.plot(months,listofx[i])\n",
    "plt.legend(labels=labels,loc=\"lower right\",bbox_to_anchor=(1,1))\n",
    "plt.show()\n",
    "\n",
    "\n"
   ]
  }
 ],
 "metadata": {
  "interpreter": {
   "hash": "e76eb5b0827b12a76621d3e8a24ffa631e0017a606d78252e778ea59c0c692ef"
  },
  "kernelspec": {
   "display_name": "Python 3.9.7 64-bit",
   "language": "python",
   "name": "python3"
  },
  "language_info": {
   "codemirror_mode": {
    "name": "ipython",
    "version": 3
   },
   "file_extension": ".py",
   "mimetype": "text/x-python",
   "name": "python",
   "nbconvert_exporter": "python",
   "pygments_lexer": "ipython3",
   "version": "3.9.7"
  }
 },
 "nbformat": 4,
 "nbformat_minor": 5
}
